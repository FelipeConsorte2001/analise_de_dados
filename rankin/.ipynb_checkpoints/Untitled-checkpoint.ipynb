{
 "cells": [
  {
   "cell_type": "code",
   "execution_count": 2,
   "id": "8464173f",
   "metadata": {},
   "outputs": [],
   "source": [
    "import pandas as pd\n",
    "import re\n",
    "df = pd.read_csv('IPTU_Part_01_750K.csv',encoding=\"ISO-8859-1\", sep=';')\n",
    "df_parte2 = pd.read_csv('IPTU_Part_02_750K.csv',encoding=\"ISO-8859-1\", sep=';')\n",
    "df_parte3 = pd.read_csv('IPTU_Part_03_970K.csv',encoding=\"ISO-8859-1\", sep=';')\n",
    "df_parte4 = pd.read_csv('IPTU_Part_04_750K.csv',encoding=\"ISO-8859-1\", sep=';')\n",
    "df_parte5 = pd.read_csv('IPTU_Part_05_750K.csv',encoding=\"ISO-8859-1\", sep=';')\n",
    "df = df.append(df_parte2)\n",
    "df = df.append(df_parte3)\n",
    "df = df.append(df_parte4)\n",
    "df = df.append(df_parte5)\n"
   ]
  },
  {
   "cell_type": "code",
   "execution_count": 27,
   "id": "be5fdef0",
   "metadata": {},
   "outputs": [
    {
     "ename": "SyntaxError",
     "evalue": "unexpected EOF while parsing (Temp/ipykernel_19604/668490636.py, line 7)",
     "output_type": "error",
     "traceback": [
      "\u001b[1;36m  File \u001b[1;32m\"C:\\Users\\cfeli\\AppData\\Local\\Temp/ipykernel_19604/668490636.py\"\u001b[1;36m, line \u001b[1;32m7\u001b[0m\n\u001b[1;33m    \u001b[0m\n\u001b[1;37m    ^\u001b[0m\n\u001b[1;31mSyntaxError\u001b[0m\u001b[1;31m:\u001b[0m unexpected EOF while parsing\n"
     ]
    }
   ],
   "source": [
    "metro_df = df['TIPO DE TERRENO'] == 'De esquina'\n",
    "dados_df = df[metro_df]\n",
    "valores_df = pd.DataFrame(dados_df.loc[:,['BAIRRO DO IMOVEL', 'AREA CONSTRUIDA']]['BAIRRO DO IMOVEL'].fillna('nenhum'))\n",
    "valores_df['AREA CONSTRUIDA'] = dados_df.loc[:, 'AREA CONSTRUIDA']\n",
    "total = valores_df.agg(valores_df['AREA CONSTRUIDA'].sum.head(10)"
   ]
  },
  {
   "cell_type": "code",
   "execution_count": null,
   "id": "e2715260",
   "metadata": {},
   "outputs": [],
   "source": [
    "#total = valores_df['BAIRRO DO IMOVEL'] * \n",
    "#total = valores_df[['AREA CONSTRUIDA']].groupby('BAIRRO DO IMOVEL').sum()\n",
    "\n",
    "\n",
    "\n",
    "#metro_df = metro_df['BAIRRO DO IMOVEL'].fillna('nenhum')\n",
    "#total = metro_df[['AREA CONSTRUIDA']].groupby(['AREA CONSTRUIDA']).sum()\n",
    "#total = metro_df.groupby(['BAIRRO DO IMOVEL', 'AREA CONSTRUIDA']).sum()\n",
    "#total = metro_df['BAIRRO DO IMOVEL'].fillna('nenhum')\n",
    "#total = metro_df[['BAIRRO DO IMOVEL', 'AREA CONSTRUIDA']].groupby('').sum()\n",
    "#display(metro_df['BAIRRO DO IMOVEL']"
   ]
  }
 ],
 "metadata": {
  "kernelspec": {
   "display_name": "Python 3 (ipykernel)",
   "language": "python",
   "name": "python3"
  },
  "language_info": {
   "codemirror_mode": {
    "name": "ipython",
    "version": 3
   },
   "file_extension": ".py",
   "mimetype": "text/x-python",
   "name": "python",
   "nbconvert_exporter": "python",
   "pygments_lexer": "ipython3",
   "version": "3.9.7"
  }
 },
 "nbformat": 4,
 "nbformat_minor": 5
}
