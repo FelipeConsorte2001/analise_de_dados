{
 "cells": [
  {
   "cell_type": "code",
   "execution_count": 2,
   "id": "8464173f",
   "metadata": {},
   "outputs": [],
   "source": [
    "import pandas as pd\n",
    "import re\n",
    "df = pd.read_csv('IPTU_Part_01_750K.csv',encoding=\"ISO-8859-1\", sep=';')\n",
    "df_parte2 = pd.read_csv('IPTU_Part_02_750K.csv',encoding=\"ISO-8859-1\", sep=';')\n",
    "df_parte3 = pd.read_csv('IPTU_Part_03_970K.csv',encoding=\"ISO-8859-1\", sep=';')\n",
    "df_parte4 = pd.read_csv('IPTU_Part_04_750K.csv',encoding=\"ISO-8859-1\", sep=';')\n",
    "df_parte5 = pd.read_csv('IPTU_Part_05_750K.csv',encoding=\"ISO-8859-1\", sep=';')\n",
    "df = df.append(df_parte2)\n",
    "df = df.append(df_parte3)\n",
    "df = df.append(df_parte4)\n",
    "df = df.append(df_parte5)\n"
   ]
  },
  {
   "cell_type": "code",
   "execution_count": 64,
   "id": "be5fdef0",
   "metadata": {},
   "outputs": [
    {
     "data": {
      "text/html": [
       "<div>\n",
       "<style scoped>\n",
       "    .dataframe tbody tr th:only-of-type {\n",
       "        vertical-align: middle;\n",
       "    }\n",
       "\n",
       "    .dataframe tbody tr th {\n",
       "        vertical-align: top;\n",
       "    }\n",
       "\n",
       "    .dataframe thead th {\n",
       "        text-align: right;\n",
       "    }\n",
       "</style>\n",
       "<table border=\"1\" class=\"dataframe\">\n",
       "  <thead>\n",
       "    <tr style=\"text-align: right;\">\n",
       "      <th></th>\n",
       "      <th></th>\n",
       "    </tr>\n",
       "    <tr>\n",
       "      <th>BAIRRO DO IMOVEL</th>\n",
       "      <th>AREA CONSTRUIDA</th>\n",
       "    </tr>\n",
       "  </thead>\n",
       "  <tbody>\n",
       "    <tr>\n",
       "      <th rowspan=\"4\" valign=\"top\">#NOME?</th>\n",
       "      <th>0</th>\n",
       "    </tr>\n",
       "    <tr>\n",
       "      <th>109</th>\n",
       "    </tr>\n",
       "    <tr>\n",
       "      <th>314</th>\n",
       "    </tr>\n",
       "    <tr>\n",
       "      <th>316</th>\n",
       "    </tr>\n",
       "    <tr>\n",
       "      <th>&amp;</th>\n",
       "      <th>17</th>\n",
       "    </tr>\n",
       "    <tr>\n",
       "      <th>...</th>\n",
       "      <th>...</th>\n",
       "    </tr>\n",
       "    <tr>\n",
       "      <th rowspan=\"5\" valign=\"top\">nenhum</th>\n",
       "      <th>129035</th>\n",
       "    </tr>\n",
       "    <tr>\n",
       "      <th>135977</th>\n",
       "    </tr>\n",
       "    <tr>\n",
       "      <th>183628</th>\n",
       "    </tr>\n",
       "    <tr>\n",
       "      <th>200000</th>\n",
       "    </tr>\n",
       "    <tr>\n",
       "      <th>254442</th>\n",
       "    </tr>\n",
       "  </tbody>\n",
       "</table>\n",
       "<p>103596 rows × 0 columns</p>\n",
       "</div>"
      ],
      "text/plain": [
       "Empty DataFrame\n",
       "Columns: []\n",
       "Index: [(#NOME?, 0), (#NOME?, 109), (#NOME?, 314), (#NOME?, 316), (&, 17), (&, 49), (&, 53), (&, 57), (&, 73), (&, 74), (&, 75), (&, 77), (&, 83), (&, 89), (&, 122), (&, 147), (&, 150), (&, 154), (&, 156), (&, 203), (&, 218), (&, 219), (&, 388), (&, 578), (& 2 VGS, 161), (& R WILSON NAHRA 128, 84), (&. TORRES DO MORUMBI, 257), (&AMPO BELO, 140), (&ANTA EFIGENIA, 86), (&AO PAULO FASHION HALL, 85), (&AO PAULO FASHION HALL, 149), (&ATUAPE, 60), (&AUDE, 68), (&AUDE, 102), (&AUDE, 124), (&D MIRIAM, 88), (&D MOEMA COMFORT HOTEL, 54), (&D MOEMA COMFORT HOTEL, 56), (&D PORTO SEGURO, 93), (&D RES MARQ. DE LAGES, 92), (&D STA TEREZINHA, 150), (&ES JD IASA, 174), (&GE, 125), (&ILA MADALENA, 23), (&J HAB JOSE BONIFACIO, 59), (&LOCO B, 81), (&LTO DE PINHEIROS, 77), (&NTERMEDIARIO, 27), (&OND RESID BORDEAUX, 84), (&ONJ HAB J BONIFACIO, 40), (&ONJ PE M DA NOBREGA, 57), (&Q ITAGUACU CANTAREIRA, 0), (&ROF MILTON RODRIGUES, 55), (&ROOKLIN NOVO, 85), (&TAQUERA, 52), ((ANTIGO AP 1), 59), ((ANTIGO AP 2), 65), ((ANTIGO N  569), 54), (,A E CARVALHO, 110), (-, 40), (-, 41), (-, 43), (-, 56), (-, 60), (-, 90), (-, 98), (-, 101), (-, 103), (-, 106), (-, 118), (-, 122), (-, 129), (-, 132), (-, 156), (-, 161), (-, 180), (-, 200), (-, 268), (-, 507), (-, 567), (-, 660), (-, 5341), (- QD. 23 - PQ ITAGUACU, 0), (-12, 2201), (-12-13-18- 1. SS., 526), (-201, 250), (-AB 137 138 139-AB, 724), (., 0), (., 12), (., 14), (., 16), (., 19), (., 23), (., 25), (., 34), (., 36), (., 38), (., 39), (., 43), (., 45), ...]\n",
       "\n",
       "[103596 rows x 0 columns]"
      ]
     },
     "metadata": {},
     "output_type": "display_data"
    }
   ],
   "source": [
    "metro_df = df['TIPO DE TERRENO'] == 'De esquina'\n",
    "dados_df = df[metro_df]\n",
    "valores_df = pd.DataFrame(dados_df.loc[:,['BAIRRO DO IMOVEL', 'AREA CONSTRUIDA']]['BAIRRO DO IMOVEL'].fillna('nenhum'))\n",
    "valores_df['AREA CONSTRUIDA'] = dados_df.loc[:, 'AREA CONSTRUIDA']\n",
    "total = valores_df.groupby(['BAIRRO DO IMOVEL', 'AREA CONSTRUIDA']).sum()\n",
    "\n",
    "display(total)"
   ]
  },
  {
   "cell_type": "code",
   "execution_count": null,
   "id": "e2715260",
   "metadata": {},
   "outputs": [],
   "source": []
  }
 ],
 "metadata": {
  "kernelspec": {
   "display_name": "Python 3 (ipykernel)",
   "language": "python",
   "name": "python3"
  },
  "language_info": {
   "codemirror_mode": {
    "name": "ipython",
    "version": 3
   },
   "file_extension": ".py",
   "mimetype": "text/x-python",
   "name": "python",
   "nbconvert_exporter": "python",
   "pygments_lexer": "ipython3",
   "version": "3.9.7"
  }
 },
 "nbformat": 4,
 "nbformat_minor": 5
}
