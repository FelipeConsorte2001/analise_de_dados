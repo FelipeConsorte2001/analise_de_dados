{
 "cells": [
  {
   "cell_type": "code",
   "execution_count": 1,
   "id": "76df15d5",
   "metadata": {
    "scrolled": false
   },
   "outputs": [
    {
     "data": {
      "text/plain": [
       "88495"
      ]
     },
     "metadata": {},
     "output_type": "display_data"
    }
   ],
   "source": [
    "import pandas as pd\n",
    "df = pd.read_csv('IPTU_Part_01_750K.csv',encoding=\"ISO-8859-1\", sep=';')\n",
    "df_parte2 = pd.read_csv('IPTU_Part_02_750K.csv',encoding=\"ISO-8859-1\", sep=';')\n",
    "df_parte3 = pd.read_csv('IPTU_Part_03_970K.csv',encoding=\"ISO-8859-1\", sep=';')\n",
    "df_parte4 = pd.read_csv('IPTU_Part_04_750K.csv',encoding=\"ISO-8859-1\", sep=';')\n",
    "df_parte5 = pd.read_csv('IPTU_Part_05_750K.csv',encoding=\"ISO-8859-1\", sep=';')\n",
    "df = df.append(df_parte2)\n",
    "df = df.append(df_parte3)\n",
    "df = df.append(df_parte4)\n",
    "df = df.append(df_parte5)\n",
    "\n",
    "bairros_df = df['BAIRRO DO IMOVEL'].fillna('nenhum')\n",
    "\n",
    "display(len(bairros_df.unique()))"
   ]
  },
  {
   "cell_type": "code",
   "execution_count": null,
   "id": "d89c30dc",
   "metadata": {},
   "outputs": [],
   "source": []
  }
 ],
 "metadata": {
  "kernelspec": {
   "display_name": "Python 3 (ipykernel)",
   "language": "python",
   "name": "python3"
  },
  "language_info": {
   "codemirror_mode": {
    "name": "ipython",
    "version": 3
   },
   "file_extension": ".py",
   "mimetype": "text/x-python",
   "name": "python",
   "nbconvert_exporter": "python",
   "pygments_lexer": "ipython3",
   "version": "3.9.7"
  }
 },
 "nbformat": 4,
 "nbformat_minor": 5
}
